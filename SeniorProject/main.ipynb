{
 "cells": [
  {
   "attachments": {},
   "cell_type": "markdown",
   "metadata": {},
   "source": [
    "### Imports"
   ]
  },
  {
   "cell_type": "code",
   "execution_count": 273,
   "metadata": {},
   "outputs": [],
   "source": [
    "import sys\n",
    "import math\n",
    "import humanize\n",
    "import numpy as np\n",
    "import pandas as pd\n",
    "from matplotlib import pyplot as plt\n",
    "%matplotlib inline\n",
    "pd.set_option('display.float_format', lambda x: '%.3f' % x)\n",
    "plt.style.use('dark_background')"
   ]
  },
  {
   "attachments": {},
   "cell_type": "markdown",
   "metadata": {},
   "source": [
    "### Read dataset"
   ]
  },
  {
   "cell_type": "code",
   "execution_count": 274,
   "metadata": {},
   "outputs": [],
   "source": [
    "f = open(\"38430-0002-Data.txt\", 'r')\n",
    "data = f.readlines()\n",
    "f.close()"
   ]
  },
  {
   "attachments": {},
   "cell_type": "markdown",
   "metadata": {},
   "source": [
    "### Extract data from file and insert it into a 2D array"
   ]
  },
  {
   "cell_type": "code",
   "execution_count": 275,
   "metadata": {},
   "outputs": [],
   "source": [
    "datalist = []\n",
    "datalist_item = []\n",
    "\n",
    "for line in data:\n",
    "    year = int(line[0:4]) #YEAR\n",
    "\n",
    "    # PERSONAL INFORMATION\n",
    "\n",
    "    weight = float(line[391:406]) #V3080\n",
    "        # implied 5 decimal places from the right\n",
    "    sex = int(line[165:166]) #V3018\n",
    "        # 1 male, 2 female, 8 residue, 9 oou\n",
    "    if year < 2003:\n",
    "        race = int(line[173:175]) #V2040A\n",
    "    else:\n",
    "        race = int(line[175:177]) #V2040B\n",
    "        # 01 white, 02 black, 03 native, 04 asian\n",
    "        # AFTER 2003:\n",
    "        # 05 pacific islander, 06 white-black, 07 white-native, 08 white-asian\n",
    "        # 09 white-pacific islander, 10 black-native, 11 black-asian, 12 black-pacific islander\n",
    "        # 13 native-asian, 14 asian-pacific islander, 15 white-black-native, 16 white-black-asian\n",
    "        # 17 white-native-asian, 18 white-asian-hawaiian, 19 two or three, 20 four or five\n",
    "        # 98 residue, 99 oou\n",
    "    \n",
    "    # SCREEN QUESTIONS\n",
    "\n",
    "    something_stolen = int(line[200:201]) # V3034\n",
    "    attacked = int(line[214:215]) #V3040\n",
    "    attacked_known = int(line[222:223]) #V3044\n",
    "    unwanted_sex = int(line[226:227]) #V3046\n",
    "        # 1 yes, 2 no, 3 refused, 8 residue, 9 oou\n",
    "\n",
    "    datalist_item.append(year)\n",
    "    datalist_item.append(weight)\n",
    "    datalist_item.append(sex)\n",
    "    datalist_item.append(race)\n",
    "    datalist_item.append(something_stolen)\n",
    "    datalist_item.append(unwanted_sex)\n",
    "    datalist.append(datalist_item)\n",
    "    datalist_item = []\n"
   ]
  },
  {
   "cell_type": "code",
   "execution_count": null,
   "metadata": {},
   "outputs": [],
   "source": [
    "\"\"\"\n",
    "number_of_times_something_stolen = int(line[201:204]) # V3035\n",
    "    # 000 thru 996 valid, 998 residue, 999 oou\n",
    "breakin_or_attempted = int(line[204:206]) # V3036\n",
    "    # 1 yes, 2 no, 3 refused, 8 residue, 9 oou\n",
    "number_of_times_breakin_or_attempted = int(line[206:209]) #V3037\n",
    "    # 000 thru 996 valid, 998 residue, 999 oou\n",
    "motor_vehicle_theft = int(line[209:211]) #3038\n",
    "    # 1 yes, 2 no, 3 refused, 8 residue, 9 oou, -2 invalid after 2016 Q4\n",
    "number_of_times_motor_vehicle_theft = int(line[211:214]) #V3037\n",
    "    # 000 thru 996 valid, 998 residue, 999 oou\n",
    "\"\"\""
   ]
  },
  {
   "attachments": {},
   "cell_type": "markdown",
   "metadata": {},
   "source": [
    "### Create DataFrame"
   ]
  },
  {
   "cell_type": "code",
   "execution_count": 276,
   "metadata": {},
   "outputs": [
    {
     "data": {
      "text/html": [
       "<div>\n",
       "<style scoped>\n",
       "    .dataframe tbody tr th:only-of-type {\n",
       "        vertical-align: middle;\n",
       "    }\n",
       "\n",
       "    .dataframe tbody tr th {\n",
       "        vertical-align: top;\n",
       "    }\n",
       "\n",
       "    .dataframe thead th {\n",
       "        text-align: right;\n",
       "    }\n",
       "</style>\n",
       "<table border=\"1\" class=\"dataframe\">\n",
       "  <thead>\n",
       "    <tr style=\"text-align: right;\">\n",
       "      <th></th>\n",
       "      <th>year</th>\n",
       "      <th>weight</th>\n",
       "      <th>sex</th>\n",
       "      <th>race</th>\n",
       "      <th>something_stolen</th>\n",
       "      <th>unwanted_sex</th>\n",
       "    </tr>\n",
       "  </thead>\n",
       "  <tbody>\n",
       "    <tr>\n",
       "      <th>0</th>\n",
       "      <td>1992</td>\n",
       "      <td>1140.887</td>\n",
       "      <td>1</td>\n",
       "      <td>1</td>\n",
       "      <td>2</td>\n",
       "      <td>2</td>\n",
       "    </tr>\n",
       "    <tr>\n",
       "      <th>1</th>\n",
       "      <td>1992</td>\n",
       "      <td>1214.611</td>\n",
       "      <td>2</td>\n",
       "      <td>1</td>\n",
       "      <td>2</td>\n",
       "      <td>2</td>\n",
       "    </tr>\n",
       "    <tr>\n",
       "      <th>2</th>\n",
       "      <td>1992</td>\n",
       "      <td>1268.634</td>\n",
       "      <td>1</td>\n",
       "      <td>1</td>\n",
       "      <td>2</td>\n",
       "      <td>2</td>\n",
       "    </tr>\n",
       "    <tr>\n",
       "      <th>3</th>\n",
       "      <td>1992</td>\n",
       "      <td>1296.574</td>\n",
       "      <td>2</td>\n",
       "      <td>1</td>\n",
       "      <td>2</td>\n",
       "      <td>2</td>\n",
       "    </tr>\n",
       "    <tr>\n",
       "      <th>4</th>\n",
       "      <td>1992</td>\n",
       "      <td>1290.251</td>\n",
       "      <td>2</td>\n",
       "      <td>1</td>\n",
       "      <td>2</td>\n",
       "      <td>2</td>\n",
       "    </tr>\n",
       "    <tr>\n",
       "      <th>5</th>\n",
       "      <td>1992</td>\n",
       "      <td>1404.300</td>\n",
       "      <td>1</td>\n",
       "      <td>1</td>\n",
       "      <td>2</td>\n",
       "      <td>2</td>\n",
       "    </tr>\n",
       "    <tr>\n",
       "      <th>6</th>\n",
       "      <td>1992</td>\n",
       "      <td>2213.644</td>\n",
       "      <td>1</td>\n",
       "      <td>1</td>\n",
       "      <td>2</td>\n",
       "      <td>2</td>\n",
       "    </tr>\n",
       "    <tr>\n",
       "      <th>7</th>\n",
       "      <td>1992</td>\n",
       "      <td>2116.230</td>\n",
       "      <td>2</td>\n",
       "      <td>1</td>\n",
       "      <td>2</td>\n",
       "      <td>2</td>\n",
       "    </tr>\n",
       "    <tr>\n",
       "      <th>8</th>\n",
       "      <td>1992</td>\n",
       "      <td>2145.415</td>\n",
       "      <td>1</td>\n",
       "      <td>3</td>\n",
       "      <td>2</td>\n",
       "      <td>2</td>\n",
       "    </tr>\n",
       "    <tr>\n",
       "      <th>9</th>\n",
       "      <td>1992</td>\n",
       "      <td>0.000</td>\n",
       "      <td>2</td>\n",
       "      <td>1</td>\n",
       "      <td>9</td>\n",
       "      <td>9</td>\n",
       "    </tr>\n",
       "  </tbody>\n",
       "</table>\n",
       "</div>"
      ],
      "text/plain": [
       "   year   weight  sex  race  something_stolen  unwanted_sex\n",
       "0  1992 1140.887    1     1                 2             2\n",
       "1  1992 1214.611    2     1                 2             2\n",
       "2  1992 1268.634    1     1                 2             2\n",
       "3  1992 1296.574    2     1                 2             2\n",
       "4  1992 1290.251    2     1                 2             2\n",
       "5  1992 1404.300    1     1                 2             2\n",
       "6  1992 2213.644    1     1                 2             2\n",
       "7  1992 2116.230    2     1                 2             2\n",
       "8  1992 2145.415    1     3                 2             2\n",
       "9  1992    0.000    2     1                 9             9"
      ]
     },
     "execution_count": 276,
     "metadata": {},
     "output_type": "execute_result"
    }
   ],
   "source": [
    "df = pd.DataFrame(datalist, columns=['year', 'weight', 'sex', 'race', 'something_stolen', 'unwanted_sex'])\n",
    "df.head(10)"
   ]
  },
  {
   "cell_type": "code",
   "execution_count": 280,
   "metadata": {},
   "outputs": [
    {
     "name": "stdout",
     "output_type": "stream",
     "text": [
      "<class 'pandas.core.frame.DataFrame'>\n",
      "RangeIndex: 5752401 entries, 0 to 5752400\n",
      "Data columns (total 6 columns):\n",
      " #   Column            Dtype  \n",
      "---  ------            -----  \n",
      " 0   year              int64  \n",
      " 1   weight            float64\n",
      " 2   sex               int64  \n",
      " 3   race              int64  \n",
      " 4   something_stolen  int64  \n",
      " 5   unwanted_sex      int64  \n",
      "dtypes: float64(1), int64(5)\n",
      "memory usage: 263.3 MB\n"
     ]
    }
   ],
   "source": [
    "df.info()"
   ]
  },
  {
   "attachments": {},
   "cell_type": "markdown",
   "metadata": {},
   "source": [
    "#### Sum of all weights"
   ]
  },
  {
   "cell_type": "code",
   "execution_count": 277,
   "metadata": {},
   "outputs": [
    {
     "name": "stdout",
     "output_type": "stream",
     "text": [
      "245,953,377.99231195\n"
     ]
    }
   ],
   "source": [
    "# weight = approximation of people over 12 in the country represented by each individual surveyed\n",
    "sum_weights = df['weight'].sum()\n",
    "# divide by 30 to get rough average of total US population over 12 from 1992-2021\n",
    "avg_weight = humanize.intcomma(sum_weights / 30)\n",
    "print(avg_weight)"
   ]
  },
  {
   "attachments": {},
   "cell_type": "markdown",
   "metadata": {},
   "source": [
    "### Plot weight of people per year who report someting stolen"
   ]
  },
  {
   "attachments": {},
   "cell_type": "markdown",
   "metadata": {},
   "source": [
    "#### Yes and no responses"
   ]
  },
  {
   "cell_type": "code",
   "execution_count": 278,
   "metadata": {},
   "outputs": [
    {
     "data": {
      "text/plain": [
       "<AxesSubplot:xlabel='year,something_stolen'>"
      ]
     },
     "execution_count": 278,
     "metadata": {},
     "output_type": "execute_result"
    },
    {
     "data": {
      "image/png": "[encoded data removed]",
      "text/plain": [
       "<Figure size 1440x360 with 1 Axes>"
      ]
     },
     "metadata": {},
     "output_type": "display_data"
    }
   ],
   "source": [
    "# filter out all responces other than yes and no\n",
    "df_filtered = df[df['something_stolen'] < 3]\n",
    "# plot sum of the weights from each category\n",
    "stolen_data = df_filtered.groupby(['year', 'something_stolen'])['weight'].sum()\n",
    "stolen_data.plot(x='year', y='something_stolen', kind='bar', figsize=(20,5))"
   ]
  },
  {
   "attachments": {},
   "cell_type": "markdown",
   "metadata": {},
   "source": [
    "#### Linear regression on yes responses"
   ]
  },
  {
   "cell_type": "code",
   "execution_count": 282,
   "metadata": {},
   "outputs": [
    {
     "data": {
      "text/plain": [
       "[<matplotlib.lines.Line2D at 0x11f810b80>]"
      ]
     },
     "execution_count": 282,
     "metadata": {},
     "output_type": "execute_result"
    },
    {
     "data": {
      "image/png": "[encoded data removed]",
      "text/plain": [
       "<Figure size 1440x360 with 1 Axes>"
      ]
     },
     "metadata": {},
     "output_type": "display_data"
    }
   ],
   "source": [
    "# filter out all responces other than yes\n",
    "df_filtered = df[df['something_stolen'] == 1]\n",
    "\n",
    "# plot sum of the weights from each category\n",
    "stolen_data_yes = df_filtered.groupby(['year', 'something_stolen'])['weight'].sum()\n",
    "vals = stolen_data_yes.to_list()\n",
    "\n",
    "# linear regression line with numpy\n",
    "x = range(1992,2022)\n",
    "y = vals\n",
    "regression = np.polyfit(x, y, deg=1)\n",
    "trendline = np.polyval(regression, x)\n",
    "plt.figure(figsize=(20,5))\n",
    "plt.bar(x, y)\n",
    "plt.plot(x, trendline, color='red')\n"
   ]
  },
  {
   "attachments": {},
   "cell_type": "markdown",
   "metadata": {},
   "source": [
    "### Plot weight of people who report unwanted sex"
   ]
  },
  {
   "attachments": {},
   "cell_type": "markdown",
   "metadata": {},
   "source": [
    "#### Female"
   ]
  },
  {
   "cell_type": "code",
   "execution_count": 283,
   "metadata": {},
   "outputs": [
    {
     "data": {
      "text/plain": [
       "<AxesSubplot:xlabel='year'>"
      ]
     },
     "execution_count": 283,
     "metadata": {},
     "output_type": "execute_result"
    },
    {
     "data": {
      "image/png": "[encoded data removed]",
      "text/plain": [
       "<Figure size 1440x360 with 1 Axes>"
      ]
     },
     "metadata": {},
     "output_type": "display_data"
    }
   ],
   "source": [
    "df_filtered = df[(df['unwanted_sex'] == 1) & (df['sex'] == 2)] \n",
    "unwanted_sex_data_female = df_filtered.groupby(['year'])['weight'].sum()\n",
    "unwanted_sex_data_female.plot(x='year', y='weight', kind='bar', figsize=(20,5), color='pink')"
   ]
  },
  {
   "attachments": {},
   "cell_type": "markdown",
   "metadata": {},
   "source": [
    "#### Male"
   ]
  },
  {
   "cell_type": "code",
   "execution_count": 284,
   "metadata": {},
   "outputs": [
    {
     "data": {
      "text/plain": [
       "<AxesSubplot:xlabel='year'>"
      ]
     },
     "execution_count": 284,
     "metadata": {},
     "output_type": "execute_result"
    },
    {
     "data": {
      "image/png": "[encoded data removed]",
      "text/plain": [
       "<Figure size 1440x360 with 1 Axes>"
      ]
     },
     "metadata": {},
     "output_type": "display_data"
    }
   ],
   "source": [
    "df_filtered = df[(df['unwanted_sex'] == 1) & (df['sex'] == 1)] \n",
    "unwanted_sex_data_male = df_filtered.groupby(['year'])['weight'].sum()\n",
    "unwanted_sex_data_male.plot(x='year', y='weight', kind='bar', figsize=(20,5), color='lightblue')"
   ]
  },
  {
   "attachments": {},
   "cell_type": "markdown",
   "metadata": {},
   "source": [
    "#### Both"
   ]
  },
  {
   "cell_type": "code",
   "execution_count": 285,
   "metadata": {},
   "outputs": [
    {
     "data": {
      "text/plain": [
       "<AxesSubplot:xlabel='year,sex'>"
      ]
     },
     "execution_count": 285,
     "metadata": {},
     "output_type": "execute_result"
    },
    {
     "data": {
      "image/png": "[encoded data removed]",
      "text/plain": [
       "<Figure size 1440x360 with 1 Axes>"
      ]
     },
     "metadata": {},
     "output_type": "display_data"
    }
   ],
   "source": [
    "df_filtered = df[(df['unwanted_sex'] == 1) & (df['sex'] < 3)] \n",
    "unwanted_sex_data = df_filtered.groupby(['year', 'sex'])['weight'].sum()\n",
    "unwanted_sex_data.plot(x='year', y='sex', kind='bar', figsize=(20,5), color=['lightblue', 'pink'])"
   ]
  }
 ],
 "metadata": {
  "kernelspec": {
   "display_name": "base",
   "language": "python",
   "name": "python3"
  },
  "language_info": {
   "codemirror_mode": {
    "name": "ipython",
    "version": 3
   },
   "file_extension": ".py",
   "mimetype": "text/x-python",
   "name": "python",
   "nbconvert_exporter": "python",
   "pygments_lexer": "ipython3",
   "version": "3.9.12"
  },
  "orig_nbformat": 4,
  "vscode": {
   "interpreter": {
    "hash": "c16a8879ef708808ed5f998445568453fe70f58f87ddeb864556ff1c11c32257"
   }
  }
 },
 "nbformat": 4,
 "nbformat_minor": 2
}
